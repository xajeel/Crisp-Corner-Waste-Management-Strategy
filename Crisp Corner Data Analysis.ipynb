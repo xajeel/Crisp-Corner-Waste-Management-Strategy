{
 "cells": [
  {
   "cell_type": "markdown",
   "id": "a81cefd6",
   "metadata": {},
   "source": [
    "# Crisp Corner Waste Management Strategy"
   ]
  },
  {
   "cell_type": "markdown",
   "id": "12bb19e8",
   "metadata": {},
   "source": [
    "### Problem Statement: \n",
    "Crisp Corner, a renowned French fries restaurant, is facing challenges with wastage of raw materials, impacting both costs and operational efficiency. The owner, Mr. Arslan, seeks insights and strategies to minimize wastage and optimize resource utilization."
   ]
  },
  {
   "cell_type": "markdown",
   "id": "dae252c9",
   "metadata": {},
   "source": [
    "### Task: \n",
    "Conduct a comprehensive analysis of Crisp Corner's past 3 to 4 years of data related to raw material usage, wastage, associated costs, and reasons contributing to wastage."
   ]
  },
  {
   "cell_type": "markdown",
   "id": "e056cbc0",
   "metadata": {},
   "source": [
    "### Objectives\n",
    "- Determine the quantity of raw material that has been wasted over the past 3 to 4 years.\n",
    "- Assess the financial impact of this wastage on the restaurant's expenses and profitability.\n",
    "- Analyze the primary factors contributing to wastage\n",
    "- Evaluate if there's a need to reduce the amount of raw material\n",
    "- Quantify the potential savings that could be achieved by implementing strategies to reduce wastage."
   ]
  },
  {
   "cell_type": "markdown",
   "id": "63443521",
   "metadata": {},
   "source": [
    "### End Goal:\n",
    "The primary aim of this project is to provide actionable insights and recommendations to Mr. Arslan, the owner of Crisp Corner."
   ]
  },
  {
   "cell_type": "code",
   "execution_count": 30,
   "id": "c322b83b",
   "metadata": {},
   "outputs": [],
   "source": [
    "# Importing Libraries\n",
    "\n",
    "import pandas as pd\n",
    "import numpy as np\n",
    "import matplotlib.pyplot as plt\n",
    "import datetime as dt\n",
    "import seaborn as sns "
   ]
  },
  {
   "cell_type": "code",
   "execution_count": 31,
   "id": "9461bdcf",
   "metadata": {},
   "outputs": [],
   "source": [
    "# Reading csv file \n",
    "\n",
    "data = pd.read_csv('crisp_corner.csv')"
   ]
  },
  {
   "cell_type": "code",
   "execution_count": 32,
   "id": "b2ba59be",
   "metadata": {},
   "outputs": [],
   "source": [
    "# Creating a copy of the dataset\n",
    "\n",
    "data_copy = data"
   ]
  },
  {
   "cell_type": "code",
   "execution_count": 33,
   "id": "4ee007cf",
   "metadata": {},
   "outputs": [
    {
     "data": {
      "text/html": [
       "<div>\n",
       "<style scoped>\n",
       "    .dataframe tbody tr th:only-of-type {\n",
       "        vertical-align: middle;\n",
       "    }\n",
       "\n",
       "    .dataframe tbody tr th {\n",
       "        vertical-align: top;\n",
       "    }\n",
       "\n",
       "    .dataframe thead th {\n",
       "        text-align: right;\n",
       "    }\n",
       "</style>\n",
       "<table border=\"1\" class=\"dataframe\">\n",
       "  <thead>\n",
       "    <tr style=\"text-align: right;\">\n",
       "      <th></th>\n",
       "      <th>Date</th>\n",
       "      <th>Customer_ID</th>\n",
       "      <th>Quantity_Sold</th>\n",
       "      <th>Type_of_Order</th>\n",
       "      <th>Raw_Material_Purchased</th>\n",
       "      <th>Price_per_kg</th>\n",
       "      <th>Wastage_Amount</th>\n",
       "      <th>Reason_for_Wastage</th>\n",
       "      <th>Sales_Revenue</th>\n",
       "    </tr>\n",
       "  </thead>\n",
       "  <tbody>\n",
       "    <tr>\n",
       "      <th>0</th>\n",
       "      <td>Friday, November 20, 2020</td>\n",
       "      <td>38</td>\n",
       "      <td>130</td>\n",
       "      <td>Small</td>\n",
       "      <td>415</td>\n",
       "      <td>2.7</td>\n",
       "      <td>4</td>\n",
       "      <td>Unsold Inventory</td>\n",
       "      <td>1680</td>\n",
       "    </tr>\n",
       "    <tr>\n",
       "      <th>1</th>\n",
       "      <td>Friday, November 20, 2020</td>\n",
       "      <td>42</td>\n",
       "      <td>133</td>\n",
       "      <td>Regular</td>\n",
       "      <td>209</td>\n",
       "      <td>2.8</td>\n",
       "      <td>5</td>\n",
       "      <td>Overcooked</td>\n",
       "      <td>877</td>\n",
       "    </tr>\n",
       "    <tr>\n",
       "      <th>2</th>\n",
       "      <td>Saturday, November 21, 2020</td>\n",
       "      <td>74</td>\n",
       "      <td>108</td>\n",
       "      <td>Large</td>\n",
       "      <td>104</td>\n",
       "      <td>2.4</td>\n",
       "      <td>7</td>\n",
       "      <td>Unsold Inventory</td>\n",
       "      <td>374</td>\n",
       "    </tr>\n",
       "    <tr>\n",
       "      <th>3</th>\n",
       "      <td>Saturday, November 21, 2020</td>\n",
       "      <td>50</td>\n",
       "      <td>193</td>\n",
       "      <td>Small</td>\n",
       "      <td>465</td>\n",
       "      <td>2.0</td>\n",
       "      <td>6</td>\n",
       "      <td>Overcooked</td>\n",
       "      <td>1395</td>\n",
       "    </tr>\n",
       "    <tr>\n",
       "      <th>4</th>\n",
       "      <td>Saturday, November 21, 2020</td>\n",
       "      <td>7</td>\n",
       "      <td>61</td>\n",
       "      <td>Special</td>\n",
       "      <td>492</td>\n",
       "      <td>2.2</td>\n",
       "      <td>15</td>\n",
       "      <td>Damaged</td>\n",
       "      <td>1623</td>\n",
       "    </tr>\n",
       "  </tbody>\n",
       "</table>\n",
       "</div>"
      ],
      "text/plain": [
       "                          Date  Customer_ID  Quantity_Sold Type_of_Order  \\\n",
       "0    Friday, November 20, 2020           38            130         Small   \n",
       "1    Friday, November 20, 2020           42            133       Regular   \n",
       "2  Saturday, November 21, 2020           74            108         Large   \n",
       "3  Saturday, November 21, 2020           50            193         Small   \n",
       "4  Saturday, November 21, 2020            7             61       Special   \n",
       "\n",
       "   Raw_Material_Purchased  Price_per_kg  Wastage_Amount Reason_for_Wastage  \\\n",
       "0                     415           2.7               4   Unsold Inventory   \n",
       "1                     209           2.8               5         Overcooked   \n",
       "2                     104           2.4               7   Unsold Inventory   \n",
       "3                     465           2.0               6         Overcooked   \n",
       "4                     492           2.2              15            Damaged   \n",
       "\n",
       "   Sales_Revenue  \n",
       "0           1680  \n",
       "1            877  \n",
       "2            374  \n",
       "3           1395  \n",
       "4           1623  "
      ]
     },
     "execution_count": 33,
     "metadata": {},
     "output_type": "execute_result"
    }
   ],
   "source": [
    "# Taking a look at the dataset\n",
    "\n",
    "data.head()"
   ]
  },
  {
   "cell_type": "code",
   "execution_count": 34,
   "id": "1131f7f9",
   "metadata": {},
   "outputs": [],
   "source": [
    "# Droping unnecessary columns\n",
    "\n",
    "datab = data.drop(['Customer_ID', 'Type_of_Order'], axis=1)"
   ]
  },
  {
   "cell_type": "code",
   "execution_count": 35,
   "id": "283b34c1",
   "metadata": {},
   "outputs": [
    {
     "data": {
      "text/html": [
       "<div>\n",
       "<style scoped>\n",
       "    .dataframe tbody tr th:only-of-type {\n",
       "        vertical-align: middle;\n",
       "    }\n",
       "\n",
       "    .dataframe tbody tr th {\n",
       "        vertical-align: top;\n",
       "    }\n",
       "\n",
       "    .dataframe thead th {\n",
       "        text-align: right;\n",
       "    }\n",
       "</style>\n",
       "<table border=\"1\" class=\"dataframe\">\n",
       "  <thead>\n",
       "    <tr style=\"text-align: right;\">\n",
       "      <th></th>\n",
       "      <th>Date</th>\n",
       "      <th>Customer_ID</th>\n",
       "      <th>Quantity_Sold</th>\n",
       "      <th>Type_of_Order</th>\n",
       "      <th>Raw_Material_Purchased</th>\n",
       "      <th>Price_per_kg</th>\n",
       "      <th>Wastage_Amount</th>\n",
       "      <th>Reason_for_Wastage</th>\n",
       "      <th>Sales_Revenue</th>\n",
       "    </tr>\n",
       "  </thead>\n",
       "  <tbody>\n",
       "    <tr>\n",
       "      <th>0</th>\n",
       "      <td>Friday, November 20, 2020</td>\n",
       "      <td>38</td>\n",
       "      <td>130</td>\n",
       "      <td>Small</td>\n",
       "      <td>415</td>\n",
       "      <td>2.7</td>\n",
       "      <td>4</td>\n",
       "      <td>Unsold Inventory</td>\n",
       "      <td>1680</td>\n",
       "    </tr>\n",
       "    <tr>\n",
       "      <th>1</th>\n",
       "      <td>Friday, November 20, 2020</td>\n",
       "      <td>42</td>\n",
       "      <td>133</td>\n",
       "      <td>Regular</td>\n",
       "      <td>209</td>\n",
       "      <td>2.8</td>\n",
       "      <td>5</td>\n",
       "      <td>Overcooked</td>\n",
       "      <td>877</td>\n",
       "    </tr>\n",
       "    <tr>\n",
       "      <th>2</th>\n",
       "      <td>Saturday, November 21, 2020</td>\n",
       "      <td>74</td>\n",
       "      <td>108</td>\n",
       "      <td>Large</td>\n",
       "      <td>104</td>\n",
       "      <td>2.4</td>\n",
       "      <td>7</td>\n",
       "      <td>Unsold Inventory</td>\n",
       "      <td>374</td>\n",
       "    </tr>\n",
       "    <tr>\n",
       "      <th>3</th>\n",
       "      <td>Saturday, November 21, 2020</td>\n",
       "      <td>50</td>\n",
       "      <td>193</td>\n",
       "      <td>Small</td>\n",
       "      <td>465</td>\n",
       "      <td>2.0</td>\n",
       "      <td>6</td>\n",
       "      <td>Overcooked</td>\n",
       "      <td>1395</td>\n",
       "    </tr>\n",
       "    <tr>\n",
       "      <th>4</th>\n",
       "      <td>Saturday, November 21, 2020</td>\n",
       "      <td>7</td>\n",
       "      <td>61</td>\n",
       "      <td>Special</td>\n",
       "      <td>492</td>\n",
       "      <td>2.2</td>\n",
       "      <td>15</td>\n",
       "      <td>Damaged</td>\n",
       "      <td>1623</td>\n",
       "    </tr>\n",
       "  </tbody>\n",
       "</table>\n",
       "</div>"
      ],
      "text/plain": [
       "                          Date  Customer_ID  Quantity_Sold Type_of_Order  \\\n",
       "0    Friday, November 20, 2020           38            130         Small   \n",
       "1    Friday, November 20, 2020           42            133       Regular   \n",
       "2  Saturday, November 21, 2020           74            108         Large   \n",
       "3  Saturday, November 21, 2020           50            193         Small   \n",
       "4  Saturday, November 21, 2020            7             61       Special   \n",
       "\n",
       "   Raw_Material_Purchased  Price_per_kg  Wastage_Amount Reason_for_Wastage  \\\n",
       "0                     415           2.7               4   Unsold Inventory   \n",
       "1                     209           2.8               5         Overcooked   \n",
       "2                     104           2.4               7   Unsold Inventory   \n",
       "3                     465           2.0               6         Overcooked   \n",
       "4                     492           2.2              15            Damaged   \n",
       "\n",
       "   Sales_Revenue  \n",
       "0           1680  \n",
       "1            877  \n",
       "2            374  \n",
       "3           1395  \n",
       "4           1623  "
      ]
     },
     "execution_count": 35,
     "metadata": {},
     "output_type": "execute_result"
    }
   ],
   "source": [
    "# Taking a look at the data \n",
    "\n",
    "data.head()"
   ]
  },
  {
   "cell_type": "code",
   "execution_count": 36,
   "id": "2b30b3fb",
   "metadata": {},
   "outputs": [],
   "source": [
    "# Changing the data type of Date column\n",
    "\n",
    "data['Date'] = pd.to_datetime(data['Date'])"
   ]
  },
  {
   "cell_type": "code",
   "execution_count": 37,
   "id": "7a8e9c3b",
   "metadata": {},
   "outputs": [
    {
     "name": "stdout",
     "output_type": "stream",
     "text": [
      "<class 'pandas.core.frame.DataFrame'>\n",
      "RangeIndex: 3354 entries, 0 to 3353\n",
      "Data columns (total 9 columns):\n",
      " #   Column                  Non-Null Count  Dtype         \n",
      "---  ------                  --------------  -----         \n",
      " 0   Date                    3354 non-null   datetime64[ns]\n",
      " 1   Customer_ID             3354 non-null   int64         \n",
      " 2   Quantity_Sold           3354 non-null   int64         \n",
      " 3   Type_of_Order           3354 non-null   object        \n",
      " 4   Raw_Material_Purchased  3354 non-null   int64         \n",
      " 5   Price_per_kg            3354 non-null   float64       \n",
      " 6   Wastage_Amount          3354 non-null   int64         \n",
      " 7   Reason_for_Wastage      3354 non-null   object        \n",
      " 8   Sales_Revenue           3354 non-null   int64         \n",
      "dtypes: datetime64[ns](1), float64(1), int64(5), object(2)\n",
      "memory usage: 236.0+ KB\n"
     ]
    }
   ],
   "source": [
    "# Checking information about the dataset\n",
    "\n",
    "data.info()"
   ]
  },
  {
   "cell_type": "code",
   "execution_count": 38,
   "id": "64a0d0cc",
   "metadata": {},
   "outputs": [],
   "source": [
    "# Extracting week days & months from Date column\n",
    "\n",
    "data['day of Week'] = data['Date'].dt.strftime('%A')\n",
    "data['month'] = data['Date'].dt.month"
   ]
  },
  {
   "cell_type": "code",
   "execution_count": 39,
   "id": "0ac1322b",
   "metadata": {},
   "outputs": [
    {
     "data": {
      "text/plain": [
       "0"
      ]
     },
     "execution_count": 39,
     "metadata": {},
     "output_type": "execute_result"
    }
   ],
   "source": [
    "# Checking for Duplicate Data\n",
    "\n",
    "data.duplicated().sum()"
   ]
  },
  {
   "cell_type": "code",
   "execution_count": 40,
   "id": "bc3ceaea",
   "metadata": {},
   "outputs": [],
   "source": [
    "# Create a dictionary mapping month numbers to their names\n",
    "month_names = {\n",
    "    1: 'January', 2: 'February', 3: 'March', 4: 'April', 5: 'May', 6: 'June',\n",
    "    7: 'July', 8: 'August', 9: 'September', 10: 'October', 11: 'November', 12: 'December'\n",
    "}\n",
    "\n",
    "data['month_name'] = data['month'].map(month_names)\n",
    "data['year'] = data['Date'].dt.year"
   ]
  },
  {
   "cell_type": "code",
   "execution_count": 41,
   "id": "b4ea3187",
   "metadata": {},
   "outputs": [
    {
     "data": {
      "text/html": [
       "<div>\n",
       "<style scoped>\n",
       "    .dataframe tbody tr th:only-of-type {\n",
       "        vertical-align: middle;\n",
       "    }\n",
       "\n",
       "    .dataframe tbody tr th {\n",
       "        vertical-align: top;\n",
       "    }\n",
       "\n",
       "    .dataframe thead th {\n",
       "        text-align: right;\n",
       "    }\n",
       "</style>\n",
       "<table border=\"1\" class=\"dataframe\">\n",
       "  <thead>\n",
       "    <tr style=\"text-align: right;\">\n",
       "      <th></th>\n",
       "      <th>Date</th>\n",
       "      <th>Customer_ID</th>\n",
       "      <th>Quantity_Sold</th>\n",
       "      <th>Type_of_Order</th>\n",
       "      <th>Raw_Material_Purchased</th>\n",
       "      <th>Price_per_kg</th>\n",
       "      <th>Wastage_Amount</th>\n",
       "      <th>Reason_for_Wastage</th>\n",
       "      <th>Sales_Revenue</th>\n",
       "      <th>day of Week</th>\n",
       "      <th>month</th>\n",
       "      <th>month_name</th>\n",
       "      <th>year</th>\n",
       "    </tr>\n",
       "  </thead>\n",
       "  <tbody>\n",
       "    <tr>\n",
       "      <th>0</th>\n",
       "      <td>2020-11-20</td>\n",
       "      <td>38</td>\n",
       "      <td>130</td>\n",
       "      <td>Small</td>\n",
       "      <td>415</td>\n",
       "      <td>2.7</td>\n",
       "      <td>4</td>\n",
       "      <td>Unsold Inventory</td>\n",
       "      <td>1680</td>\n",
       "      <td>Friday</td>\n",
       "      <td>11</td>\n",
       "      <td>November</td>\n",
       "      <td>2020</td>\n",
       "    </tr>\n",
       "    <tr>\n",
       "      <th>1</th>\n",
       "      <td>2020-11-20</td>\n",
       "      <td>42</td>\n",
       "      <td>133</td>\n",
       "      <td>Regular</td>\n",
       "      <td>209</td>\n",
       "      <td>2.8</td>\n",
       "      <td>5</td>\n",
       "      <td>Overcooked</td>\n",
       "      <td>877</td>\n",
       "      <td>Friday</td>\n",
       "      <td>11</td>\n",
       "      <td>November</td>\n",
       "      <td>2020</td>\n",
       "    </tr>\n",
       "    <tr>\n",
       "      <th>2</th>\n",
       "      <td>2020-11-21</td>\n",
       "      <td>74</td>\n",
       "      <td>108</td>\n",
       "      <td>Large</td>\n",
       "      <td>104</td>\n",
       "      <td>2.4</td>\n",
       "      <td>7</td>\n",
       "      <td>Unsold Inventory</td>\n",
       "      <td>374</td>\n",
       "      <td>Saturday</td>\n",
       "      <td>11</td>\n",
       "      <td>November</td>\n",
       "      <td>2020</td>\n",
       "    </tr>\n",
       "    <tr>\n",
       "      <th>3</th>\n",
       "      <td>2020-11-21</td>\n",
       "      <td>50</td>\n",
       "      <td>193</td>\n",
       "      <td>Small</td>\n",
       "      <td>465</td>\n",
       "      <td>2.0</td>\n",
       "      <td>6</td>\n",
       "      <td>Overcooked</td>\n",
       "      <td>1395</td>\n",
       "      <td>Saturday</td>\n",
       "      <td>11</td>\n",
       "      <td>November</td>\n",
       "      <td>2020</td>\n",
       "    </tr>\n",
       "    <tr>\n",
       "      <th>4</th>\n",
       "      <td>2020-11-21</td>\n",
       "      <td>7</td>\n",
       "      <td>61</td>\n",
       "      <td>Special</td>\n",
       "      <td>492</td>\n",
       "      <td>2.2</td>\n",
       "      <td>15</td>\n",
       "      <td>Damaged</td>\n",
       "      <td>1623</td>\n",
       "      <td>Saturday</td>\n",
       "      <td>11</td>\n",
       "      <td>November</td>\n",
       "      <td>2020</td>\n",
       "    </tr>\n",
       "  </tbody>\n",
       "</table>\n",
       "</div>"
      ],
      "text/plain": [
       "        Date  Customer_ID  Quantity_Sold Type_of_Order  \\\n",
       "0 2020-11-20           38            130         Small   \n",
       "1 2020-11-20           42            133       Regular   \n",
       "2 2020-11-21           74            108         Large   \n",
       "3 2020-11-21           50            193         Small   \n",
       "4 2020-11-21            7             61       Special   \n",
       "\n",
       "   Raw_Material_Purchased  Price_per_kg  Wastage_Amount Reason_for_Wastage  \\\n",
       "0                     415           2.7               4   Unsold Inventory   \n",
       "1                     209           2.8               5         Overcooked   \n",
       "2                     104           2.4               7   Unsold Inventory   \n",
       "3                     465           2.0               6         Overcooked   \n",
       "4                     492           2.2              15            Damaged   \n",
       "\n",
       "   Sales_Revenue day of Week  month month_name  year  \n",
       "0           1680      Friday     11   November  2020  \n",
       "1            877      Friday     11   November  2020  \n",
       "2            374    Saturday     11   November  2020  \n",
       "3           1395    Saturday     11   November  2020  \n",
       "4           1623    Saturday     11   November  2020  "
      ]
     },
     "execution_count": 41,
     "metadata": {},
     "output_type": "execute_result"
    }
   ],
   "source": [
    "data.head()"
   ]
  },
  {
   "cell_type": "code",
   "execution_count": 42,
   "id": "2d80343e",
   "metadata": {},
   "outputs": [
    {
     "data": {
      "text/plain": [
       "array([2020, 2021, 2022, 2023], dtype=int64)"
      ]
     },
     "execution_count": 42,
     "metadata": {},
     "output_type": "execute_result"
    }
   ],
   "source": [
    "# Checking Unique values in Year column\n",
    "\n",
    "data['year'].unique()"
   ]
  },
  {
   "cell_type": "markdown",
   "id": "2eafb6f5",
   "metadata": {},
   "source": [
    "### Insights\n",
    "\n",
    "---\n",
    "- Dataset contain 4 years of data\n",
    "---"
   ]
  },
  {
   "cell_type": "markdown",
   "id": "6aa5530b",
   "metadata": {},
   "source": [
    "---"
   ]
  },
  {
   "cell_type": "markdown",
   "id": "90ff01c3",
   "metadata": {},
   "source": [
    "## 1. General Look at total Sales, Revenue & Waste material"
   ]
  },
  {
   "cell_type": "code",
   "execution_count": 43,
   "id": "9d347d3f",
   "metadata": {},
   "outputs": [
    {
     "data": {
      "text/html": [
       "<div>\n",
       "<style scoped>\n",
       "    .dataframe tbody tr th:only-of-type {\n",
       "        vertical-align: middle;\n",
       "    }\n",
       "\n",
       "    .dataframe tbody tr th {\n",
       "        vertical-align: top;\n",
       "    }\n",
       "\n",
       "    .dataframe thead th {\n",
       "        text-align: right;\n",
       "    }\n",
       "</style>\n",
       "<table border=\"1\" class=\"dataframe\">\n",
       "  <thead>\n",
       "    <tr style=\"text-align: right;\">\n",
       "      <th></th>\n",
       "      <th>Sales_Revenue</th>\n",
       "    </tr>\n",
       "    <tr>\n",
       "      <th>day of Week</th>\n",
       "      <th></th>\n",
       "    </tr>\n",
       "  </thead>\n",
       "  <tbody>\n",
       "    <tr>\n",
       "      <th>Friday</th>\n",
       "      <td>554274</td>\n",
       "    </tr>\n",
       "    <tr>\n",
       "      <th>Monday</th>\n",
       "      <td>588382</td>\n",
       "    </tr>\n",
       "    <tr>\n",
       "      <th>Saturday</th>\n",
       "      <td>495089</td>\n",
       "    </tr>\n",
       "    <tr>\n",
       "      <th>Sunday</th>\n",
       "      <td>537682</td>\n",
       "    </tr>\n",
       "    <tr>\n",
       "      <th>Thursday</th>\n",
       "      <td>557037</td>\n",
       "    </tr>\n",
       "    <tr>\n",
       "      <th>Tuesday</th>\n",
       "      <td>533681</td>\n",
       "    </tr>\n",
       "    <tr>\n",
       "      <th>Wednesday</th>\n",
       "      <td>525973</td>\n",
       "    </tr>\n",
       "  </tbody>\n",
       "</table>\n",
       "</div>"
      ],
      "text/plain": [
       "             Sales_Revenue\n",
       "day of Week               \n",
       "Friday              554274\n",
       "Monday              588382\n",
       "Saturday            495089\n",
       "Sunday              537682\n",
       "Thursday            557037\n",
       "Tuesday             533681\n",
       "Wednesday           525973"
      ]
     },
     "execution_count": 43,
     "metadata": {},
     "output_type": "execute_result"
    }
   ],
   "source": [
    "# Total Sales Each day of week in 4 years\n",
    "\n",
    "weekly_sales = data.groupby('day of Week')[['Sales_Revenue']].sum()\n",
    "weekly_sales.head(7)"
   ]
  },
  {
   "cell_type": "code",
   "execution_count": 44,
   "id": "0530a605",
   "metadata": {},
   "outputs": [
    {
     "data": {
      "image/png": "[encoded data removed]",
      "text/plain": [
       "<Figure size 900x400 with 1 Axes>"
      ]
     },
     "metadata": {},
     "output_type": "display_data"
    }
   ],
   "source": [
    "# Ploting a bar plot for Days of week and Total Sales\n",
    "\n",
    "plt.figure(figsize=(9, 4))\n",
    "sns.barplot(x = weekly_sales.index , y = weekly_sales['Sales_Revenue'] )\n",
    "plt.show()"
   ]
  },
  {
   "cell_type": "markdown",
   "id": "13e6ee5b",
   "metadata": {},
   "source": [
    "### Insights\n",
    "\n",
    "---\n",
    "- Monday has the highest sales followed by friday & thursady\n",
    "- Saturday has the lowest sales\n",
    "---"
   ]
  },
  {
   "cell_type": "code",
   "execution_count": 45,
   "id": "11de35f3",
   "metadata": {},
   "outputs": [
    {
     "data": {
      "text/html": [
       "<div>\n",
       "<style scoped>\n",
       "    .dataframe tbody tr th:only-of-type {\n",
       "        vertical-align: middle;\n",
       "    }\n",
       "\n",
       "    .dataframe tbody tr th {\n",
       "        vertical-align: top;\n",
       "    }\n",
       "\n",
       "    .dataframe thead th {\n",
       "        text-align: right;\n",
       "    }\n",
       "</style>\n",
       "<table border=\"1\" class=\"dataframe\">\n",
       "  <thead>\n",
       "    <tr style=\"text-align: right;\">\n",
       "      <th></th>\n",
       "      <th>Wastage_Amount</th>\n",
       "    </tr>\n",
       "    <tr>\n",
       "      <th>day of Week</th>\n",
       "      <th></th>\n",
       "    </tr>\n",
       "  </thead>\n",
       "  <tbody>\n",
       "    <tr>\n",
       "      <th>Friday</th>\n",
       "      <td>4830</td>\n",
       "    </tr>\n",
       "    <tr>\n",
       "      <th>Monday</th>\n",
       "      <td>5230</td>\n",
       "    </tr>\n",
       "    <tr>\n",
       "      <th>Saturday</th>\n",
       "      <td>4355</td>\n",
       "    </tr>\n",
       "    <tr>\n",
       "      <th>Sunday</th>\n",
       "      <td>5031</td>\n",
       "    </tr>\n",
       "    <tr>\n",
       "      <th>Thursday</th>\n",
       "      <td>4816</td>\n",
       "    </tr>\n",
       "    <tr>\n",
       "      <th>Tuesday</th>\n",
       "      <td>4768</td>\n",
       "    </tr>\n",
       "    <tr>\n",
       "      <th>Wednesday</th>\n",
       "      <td>4739</td>\n",
       "    </tr>\n",
       "  </tbody>\n",
       "</table>\n",
       "</div>"
      ],
      "text/plain": [
       "             Wastage_Amount\n",
       "day of Week                \n",
       "Friday                 4830\n",
       "Monday                 5230\n",
       "Saturday               4355\n",
       "Sunday                 5031\n",
       "Thursday               4816\n",
       "Tuesday                4768\n",
       "Wednesday              4739"
      ]
     },
     "execution_count": 45,
     "metadata": {},
     "output_type": "execute_result"
    }
   ],
   "source": [
    "# Total Wastage Generated each day of week in 4 years\n",
    "\n",
    "weekly_waste = data.groupby('day of Week')[['Wastage_Amount']].sum()\n",
    "weekly_waste.head(7)"
   ]
  },
  {
   "cell_type": "code",
   "execution_count": 46,
   "id": "59baad26",
   "metadata": {},
   "outputs": [
    {
     "data": {
      "image/png": "[encoded data removed]",
      "text/plain": [
       "<Figure size 900x400 with 1 Axes>"
      ]
     },
     "metadata": {},
     "output_type": "display_data"
    }
   ],
   "source": [
    "# Ploting a bar plot for Days of week and Total Wastage\n",
    "\n",
    "plt.figure(figsize=(9, 4))\n",
    "sns.barplot(x = weekly_waste.index, y = weekly_waste['Wastage_Amount'] )\n",
    "plt.show()"
   ]
  },
  {
   "cell_type": "markdown",
   "id": "78a02f7f",
   "metadata": {},
   "source": [
    "### Insights\n",
    "\n",
    "---\n",
    "- Monday has the highest wastage amount as well followed by sunday & friday for past three years\n",
    "- saturday has the lowest waste amount in past 3 years\n",
    "---"
   ]
  },
  {
   "cell_type": "code",
   "execution_count": 47,
   "id": "b26ea9b9",
   "metadata": {},
   "outputs": [],
   "source": [
    "# Grouping data by Reason of Wastage\n",
    "\n",
    "wastage_reasons = data.groupby('Reason_for_Wastage')[['Wastage_Amount']].sum().sort_values(\n",
    "    by='Wastage_Amount', ascending = False)"
   ]
  },
  {
   "cell_type": "code",
   "execution_count": 48,
   "id": "9e9fb6fb",
   "metadata": {},
   "outputs": [
    {
     "data": {
      "image/png": "[encoded data removed]",
      "text/plain": [
       "<Figure size 900x400 with 1 Axes>"
      ]
     },
     "metadata": {},
     "output_type": "display_data"
    }
   ],
   "source": [
    "plt.figure(figsize=(9,4))\n",
    "sns.barplot(x= wastage_reasons.index, y= wastage_reasons['Wastage_Amount'])\n",
    "plt.show()"
   ]
  },
  {
   "cell_type": "markdown",
   "id": "b5483357",
   "metadata": {},
   "source": [
    "### Insights\n",
    "\n",
    "---\n",
    "- In past 4 years major portion of waste is generated due to overcooking & damaged fries\n",
    "---"
   ]
  },
  {
   "cell_type": "markdown",
   "id": "ae7da8b4",
   "metadata": {},
   "source": [
    "## 2. Year by Year Analysis"
   ]
  },
  {
   "cell_type": "code",
   "execution_count": 49,
   "id": "d8906445",
   "metadata": {},
   "outputs": [],
   "source": [
    "# Filtering data for each year\n",
    "\n",
    "year_2020 = data[data['year'] == 2020]\n",
    "year_2021 = data[data['year'] == 2021]\n",
    "year_2022 = data[data['year'] == 2022]\n",
    "year_2023 = data[data['year'] == 2023]"
   ]
  },
  {
   "cell_type": "code",
   "execution_count": 50,
   "id": "d03541ac",
   "metadata": {},
   "outputs": [],
   "source": [
    "yearly_wastage = data.groupby('year')[['Wastage_Amount']].sum()"
   ]
  },
  {
   "cell_type": "code",
   "execution_count": 63,
   "id": "27636ac0",
   "metadata": {},
   "outputs": [
    {
     "data": {
      "image/png": "[encoded data removed]",
      "text/plain": [
       "<Figure size 800x400 with 1 Axes>"
      ]
     },
     "metadata": {},
     "output_type": "display_data"
    }
   ],
   "source": [
    "plt.figure(figsize=(8,4))\n",
    "sns.barplot(x= yearly_wastage.index, y = yearly_wastage['Wastage_Amount'])\n",
    "plt.show()"
   ]
  },
  {
   "cell_type": "code",
   "execution_count": 52,
   "id": "053d5caa",
   "metadata": {},
   "outputs": [
    {
     "name": "stdout",
     "output_type": "stream",
     "text": [
      "Year 2020 %age waste of raw material = 3.33\n",
      "Year 2021 %age waste of raw material = 3.32\n",
      "Year 2022 %age waste of raw material = 3.3\n",
      "Year 2023 %age waste of raw material = 3.38\n"
     ]
    }
   ],
   "source": [
    "# Calculating percentage wastage each year\n",
    "\n",
    "waste_2020 = (year_2020['Wastage_Amount'].sum()) / (year_2020['Raw_Material_Purchased'].sum())*100\n",
    "waste_2021 = (year_2021['Wastage_Amount'].sum()) / (year_2021['Raw_Material_Purchased'].sum())*100\n",
    "waste_2022 = (year_2022['Wastage_Amount'].sum()) / (year_2022['Raw_Material_Purchased'].sum())*100\n",
    "waste_2023 = (year_2023['Wastage_Amount'].sum()) / (year_2023['Raw_Material_Purchased'].sum())*100\n",
    "\n",
    "print('Year 2020 %age waste of raw material =', waste_2020.round(2))\n",
    "print('Year 2021 %age waste of raw material =', waste_2021.round(2))\n",
    "print('Year 2022 %age waste of raw material =', waste_2022.round(2))\n",
    "print('Year 2023 %age waste of raw material =', waste_2023.round(2))"
   ]
  },
  {
   "cell_type": "code",
   "execution_count": 65,
   "id": "d2f94470",
   "metadata": {},
   "outputs": [],
   "source": [
    "# Calculating percentage wastage for each reason\n",
    "\n",
    "reason_2020 = year_2020.groupby('Reason_for_Wastage')[['Raw_Material_Purchased', 'Wastage_Amount']].sum()\n",
    "reason_2020['%waste of raw'] = (reason_2020['Wastage_Amount'] / reason_2020['Raw_Material_Purchased'].sum() ) * 100\n",
    "\n",
    "reason_2021 = year_2021.groupby('Reason_for_Wastage')[['Raw_Material_Purchased', 'Wastage_Amount']].sum()\n",
    "reason_2021['%waste of raw'] = (reason_2021['Wastage_Amount'] / reason_2021['Raw_Material_Purchased'].sum() ) * 100\n",
    "\n",
    "reason_2022 = year_2022.groupby('Reason_for_Wastage')[['Raw_Material_Purchased', 'Wastage_Amount']].sum()\n",
    "reason_2022['%waste of raw'] = (reason_2022['Wastage_Amount'] / reason_2022['Raw_Material_Purchased'].sum() ) * 100\n",
    "\n",
    "reason_2023 = year_2023.groupby('Reason_for_Wastage')[['Raw_Material_Purchased', 'Wastage_Amount']].sum()\n",
    "reason_2023['%waste of raw'] = (reason_2023['Wastage_Amount'] / reason_2023['Raw_Material_Purchased'].sum() ) * 100"
   ]
  },
  {
   "cell_type": "code",
   "execution_count": 89,
   "id": "df7c89f6",
   "metadata": {},
   "outputs": [],
   "source": [
    "reason_2020_data = pd.DataFrame(reason_2020[['%waste of raw']])\n",
    "reason_2021_data = pd.DataFrame(reason_2021[['%waste of raw']])\n",
    "reason_2022_data = pd.DataFrame(reason_2022[['%waste of raw']])\n",
    "reason_2023_data = pd.DataFrame(reason_2023[['%waste of raw']])"
   ]
  },
  {
   "cell_type": "code",
   "execution_count": 92,
   "id": "ca9d16b9",
   "metadata": {},
   "outputs": [
    {
     "name": "stderr",
     "output_type": "stream",
     "text": [
      "C:\\Users\\SONU COMPUTER\\AppData\\Local\\Temp\\ipykernel_11080\\2037126734.py:3: FutureWarning: Passing 'suffixes' which cause duplicate columns {'%waste of raw_x'} in the result is deprecated and will raise a MergeError in a future version.\n",
      "  merged_data = pd.merge(merged_data, reason_2023_data, on = 'Reason_for_Wastage')\n"
     ]
    },
    {
     "data": {
      "text/html": [
       "<div>\n",
       "<style scoped>\n",
       "    .dataframe tbody tr th:only-of-type {\n",
       "        vertical-align: middle;\n",
       "    }\n",
       "\n",
       "    .dataframe tbody tr th {\n",
       "        vertical-align: top;\n",
       "    }\n",
       "\n",
       "    .dataframe thead th {\n",
       "        text-align: right;\n",
       "    }\n",
       "</style>\n",
       "<table border=\"1\" class=\"dataframe\">\n",
       "  <thead>\n",
       "    <tr style=\"text-align: right;\">\n",
       "      <th></th>\n",
       "      <th>%waste of raw_x</th>\n",
       "      <th>%waste of raw_y</th>\n",
       "      <th>%waste of raw_x</th>\n",
       "      <th>%waste of raw_y</th>\n",
       "    </tr>\n",
       "    <tr>\n",
       "      <th>Reason_for_Wastage</th>\n",
       "      <th></th>\n",
       "      <th></th>\n",
       "      <th></th>\n",
       "      <th></th>\n",
       "    </tr>\n",
       "  </thead>\n",
       "  <tbody>\n",
       "    <tr>\n",
       "      <th>Damaged</th>\n",
       "      <td>1.27</td>\n",
       "      <td>1.08</td>\n",
       "      <td>1.20</td>\n",
       "      <td>1.08</td>\n",
       "    </tr>\n",
       "    <tr>\n",
       "      <th>Overcooked</th>\n",
       "      <td>1.05</td>\n",
       "      <td>1.18</td>\n",
       "      <td>1.14</td>\n",
       "      <td>1.13</td>\n",
       "    </tr>\n",
       "    <tr>\n",
       "      <th>Unsold Inventory</th>\n",
       "      <td>1.01</td>\n",
       "      <td>1.07</td>\n",
       "      <td>0.96</td>\n",
       "      <td>1.17</td>\n",
       "    </tr>\n",
       "  </tbody>\n",
       "</table>\n",
       "</div>"
      ],
      "text/plain": [
       "                    %waste of raw_x  %waste of raw_y  %waste of raw_x  \\\n",
       "Reason_for_Wastage                                                      \n",
       "Damaged                        1.27             1.08             1.20   \n",
       "Overcooked                     1.05             1.18             1.14   \n",
       "Unsold Inventory               1.01             1.07             0.96   \n",
       "\n",
       "                    %waste of raw_y  \n",
       "Reason_for_Wastage                   \n",
       "Damaged                        1.08  \n",
       "Overcooked                     1.13  \n",
       "Unsold Inventory               1.17  "
      ]
     },
     "execution_count": 92,
     "metadata": {},
     "output_type": "execute_result"
    }
   ],
   "source": [
    "merged_data = pd.merge(reason_2020_data, reason_2021_data, on = 'Reason_for_Wastage')\n",
    "merged_data = pd.merge(merged_data, reason_2022_data, on = 'Reason_for_Wastage')\n",
    "merged_data = pd.merge(merged_data, reason_2023_data, on = 'Reason_for_Wastage')\n",
    "merged_data.round(2)"
   ]
  },
  {
   "cell_type": "code",
   "execution_count": 88,
   "id": "ec29071d",
   "metadata": {},
   "outputs": [
    {
     "data": {
      "text/html": [
       "<div>\n",
       "<style scoped>\n",
       "    .dataframe tbody tr th:only-of-type {\n",
       "        vertical-align: middle;\n",
       "    }\n",
       "\n",
       "    .dataframe tbody tr th {\n",
       "        vertical-align: top;\n",
       "    }\n",
       "\n",
       "    .dataframe thead th {\n",
       "        text-align: right;\n",
       "    }\n",
       "</style>\n",
       "<table border=\"1\" class=\"dataframe\">\n",
       "  <thead>\n",
       "    <tr style=\"text-align: right;\">\n",
       "      <th></th>\n",
       "      <th>Year 2022</th>\n",
       "      <th>Year 2023</th>\n",
       "      <th>Year 2022</th>\n",
       "      <th>Year 2023</th>\n",
       "    </tr>\n",
       "    <tr>\n",
       "      <th>Reason_for_Wastage</th>\n",
       "      <th></th>\n",
       "      <th></th>\n",
       "      <th></th>\n",
       "      <th></th>\n",
       "    </tr>\n",
       "  </thead>\n",
       "  <tbody>\n",
       "    <tr>\n",
       "      <th>Damaged</th>\n",
       "      <td>1.269616</td>\n",
       "      <td>1.077425</td>\n",
       "      <td>1.198803</td>\n",
       "      <td>1.082077</td>\n",
       "    </tr>\n",
       "    <tr>\n",
       "      <th>Overcooked</th>\n",
       "      <td>1.054381</td>\n",
       "      <td>1.177383</td>\n",
       "      <td>1.141674</td>\n",
       "      <td>1.128481</td>\n",
       "    </tr>\n",
       "    <tr>\n",
       "      <th>Unsold Inventory</th>\n",
       "      <td>1.005340</td>\n",
       "      <td>1.068233</td>\n",
       "      <td>0.963032</td>\n",
       "      <td>1.168495</td>\n",
       "    </tr>\n",
       "  </tbody>\n",
       "</table>\n",
       "</div>"
      ],
      "text/plain": [
       "                    Year 2022  Year 2023  Year 2022  Year 2023\n",
       "Reason_for_Wastage                                            \n",
       "Damaged              1.269616   1.077425   1.198803   1.082077\n",
       "Overcooked           1.054381   1.177383   1.141674   1.128481\n",
       "Unsold Inventory     1.005340   1.068233   0.963032   1.168495"
      ]
     },
     "execution_count": 88,
     "metadata": {},
     "output_type": "execute_result"
    }
   ],
   "source": [
    "# Changing the name of the columns\n",
    "\n",
    "new_column_name = {\n",
    "    '%waste of raw_x': 'Year 2020',\n",
    "    '%waste of raw_y': 'Year 2021',\n",
    "    '%waste of raw_x': 'Year 2022',\n",
    "    '%waste of raw_y': 'Year 2023'\n",
    "}\n",
    "\n",
    "merged_data = merged_data.rename(columns=new_column_name)\n",
    "merged_data"
   ]
  },
  {
   "cell_type": "markdown",
   "id": "980019e1",
   "metadata": {},
   "source": [
    "### Insights\n",
    "\n",
    "---\n",
    "- Returant wasted nearly same 3.3% of raw material each year\n",
    "- Damaging, over cooking and unsold inventory, these reasons contribute nearly equaly in the wastage generation\n",
    "---"
   ]
  },
  {
   "cell_type": "code",
   "execution_count": 60,
   "id": "203f77ce",
   "metadata": {},
   "outputs": [],
   "source": [
    "rev_lost_2020 = year_2020['Price_per_kg'].mean() * year_2020['Wastage_Amount'].sum()\n",
    "rev_lost_2021 = year_2021['Price_per_kg'].mean() * year_2021['Wastage_Amount'].sum()\n",
    "rev_lost_2022 = year_2022['Price_per_kg'].mean() * year_2022['Wastage_Amount'].sum()\n",
    "rev_lost_2023 = year_2023['Price_per_kg'].mean() * year_2023['Wastage_Amount'].sum()"
   ]
  },
  {
   "cell_type": "code",
   "execution_count": 61,
   "id": "b0a12feb",
   "metadata": {},
   "outputs": [],
   "source": [
    "percentage_rev_lost_2020 = ( rev_lost_2020 / year_2020['Sales_Revenue'].sum() ) * 100\n",
    "percentage_rev_lost_2021 = ( rev_lost_2021 / year_2021['Sales_Revenue'].sum() ) * 100\n",
    "percentage_rev_lost_2022 = ( rev_lost_2022 / year_2022['Sales_Revenue'].sum() ) * 100\n",
    "percentage_rev_lost_2023 = ( rev_lost_2023 / year_2023['Sales_Revenue'].sum() ) * 100"
   ]
  },
  {
   "cell_type": "code",
   "execution_count": 62,
   "id": "9b56a9b2",
   "metadata": {
    "scrolled": true
   },
   "outputs": [
    {
     "name": "stdout",
     "output_type": "stream",
     "text": [
      "Percentage Revenue Loss in year 2020: 2.22\n",
      "Percentage Revenue Loss in year 2021: 2.22\n",
      "Percentage Revenue Loss in year 2022: 2.2\n",
      "Percentage Revenue Loss in year 2023: 2.25\n"
     ]
    }
   ],
   "source": [
    "print('Percentage Revenue Loss in year 2020:', percentage_rev_lost_2020.round(2))\n",
    "print('Percentage Revenue Loss in year 2021:', percentage_rev_lost_2021.round(2))\n",
    "print('Percentage Revenue Loss in year 2022:', percentage_rev_lost_2022.round(2))\n",
    "print('Percentage Revenue Loss in year 2023:', percentage_rev_lost_2023.round(2))"
   ]
  },
  {
   "cell_type": "markdown",
   "id": "d50de423",
   "metadata": {},
   "source": [
    "### Insights\n",
    "\n",
    "---\n",
    "- Resturant lost nearly 2.2% of total revenue due to wastage each year\n",
    "---"
   ]
  },
  {
   "cell_type": "markdown",
   "id": "8eba03ee",
   "metadata": {},
   "source": [
    "---\n",
    "\n",
    "# Insights"
   ]
  },
  {
   "cell_type": "markdown",
   "id": "dffd5198",
   "metadata": {},
   "source": [
    "- Restaurant wasted nearly 3.3% of raw material each year\n",
    "- Damaging, over cooking and unsold inventory, these reasons contribute nearly equaly in the wastage generation\n",
    "- Resturant lost nearly 2.2% of total revenue due to wastage each year.\n",
    "- Each year atleast 1% of raw material is unsold"
   ]
  },
  {
   "cell_type": "markdown",
   "id": "38c86b03",
   "metadata": {},
   "source": [
    "# Recommendation"
   ]
  },
  {
   "cell_type": "markdown",
   "id": "4b14ee3c",
   "metadata": {},
   "source": [
    "- Although the wastage percentage remains consistent annually at around 3.3%, it's essential to further analyze each stage of food preparation and service.\n",
    "- Implement targeted training programs for staff to handle ingredients more efficiently, improve cooking techniques, and revise menu items to minimize wastage without compromising quality.\n",
    "- 2.2% of total revenue loss due to wastage is significant. Consider introducing strategies to mitigate this loss.\n",
    "- Raw material can be reduced by 1% for next year "
   ]
  },
  {
   "cell_type": "code",
   "execution_count": null,
   "id": "64a8603b",
   "metadata": {},
   "outputs": [],
   "source": []
  }
 ],
 "metadata": {
  "kernelspec": {
   "display_name": "Python 3 (ipykernel)",
   "language": "python",
   "name": "python3"
  },
  "language_info": {
   "codemirror_mode": {
    "name": "ipython",
    "version": 3
   },
   "file_extension": ".py",
   "mimetype": "text/x-python",
   "name": "python",
   "nbconvert_exporter": "python",
   "pygments_lexer": "ipython3",
   "version": "3.11.3"
  }
 },
 "nbformat": 4,
 "nbformat_minor": 5
}
